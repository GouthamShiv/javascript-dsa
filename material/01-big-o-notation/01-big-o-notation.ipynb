{
 "cells": [
  {
   "cell_type": "markdown",
   "metadata": {},
   "source": [
    "[back](./00-index.ipynb)\n",
    "\n",
    "---\n",
    "## `Big O Notation`"
   ]
  },
  {
   "cell_type": "markdown",
   "metadata": {},
   "source": [
    "### `What's the idea here?`"
   ]
  },
  {
   "cell_type": "markdown",
   "metadata": {},
   "source": [
    "\n",
    "- Usually there could be more than one solution for any given problem and how do we know what's best?\n",
    "- For example, consider a problem where we have two valid solutions, both different not just in terms of variable names but in terms of the approach, where one uses loops and the other recursion to accomplish the same task.\n",
    "- How would we know which one is the best?\n",
    "- That's what is `Big O` really about, a system / way of generalizing code and comparing them and it's performance with other piece of code."
   ]
  },
  {
   "cell_type": "markdown",
   "metadata": {},
   "source": [
    "### `Scenario`"
   ]
  },
  {
   "cell_type": "markdown",
   "metadata": {},
   "source": [
    "\n",
    "- Write a function that accepts a string input and returns a reversed copy\n",
    "- There are a lot of ways in which this can be achieved, but how to categorize them as to which one is best, which one is good etc\n",
    "- And instead of giving labels or color-code based on the performance, we can have numerical representation of the performance of the code and that is what `Big O` would provide."
   ]
  },
  {
   "cell_type": "markdown",
   "metadata": {},
   "source": [
    "### `Who cares?`"
   ]
  },
  {
   "cell_type": "markdown",
   "metadata": {},
   "source": [
    "\n",
    "- For smaller instance it might not be required to know the performance, but what if for an interview purpose / at work, we have a large set of data? and a particular algorithm might save one hour every time it runs, so performance would matter at that time.\n",
    "- It's important to have a precise vocabulary to talk about how our code performs.\n",
    "- It is also useful to discuss trade-offs between different approaches. Where one might great at handling large set of data and other one might be always consistent, but it might take more time upfront.\n",
    "- Also, while debugging, it might help understand things that are slowing it down."
   ]
  },
  {
   "cell_type": "markdown",
   "metadata": {},
   "source": [
    "\n",
    "---\n",
    "[next]()"
   ]
  }
 ],
 "metadata": {
  "kernelspec": {
   "display_name": "JavaScript (Node.js)",
   "language": "javascript",
   "name": "javascript"
  },
  "language_info": {
   "name": "javascript"
  },
  "orig_nbformat": 4
 },
 "nbformat": 4,
 "nbformat_minor": 2
}
