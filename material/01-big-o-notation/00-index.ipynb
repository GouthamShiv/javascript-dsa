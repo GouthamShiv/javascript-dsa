{
 "cells": [
  {
   "cell_type": "markdown",
   "metadata": {},
   "source": [
    "[back](../../index.ipynb)\n",
    "\n",
    "---\n",
    "##  `Big O Notation`\n",
    "\n",
    "  - [Need for **Big O Notation**](./01-big-o-notation.ipynb)\n",
    "  - [Examples to understand need of **Big O**](./02-example.ipynb)\n",
    "  - [Describe what **Big O Notation** is](./03-intro-to-big-o.ipynb)\n",
    "  - [Simplify **Big O Expressions**](./04-simplifying-big-o-expression.ipynb)\n",
    "  - [Define **time complexity** and **space complexity**]()\n",
    "  - [Evaluate the **time complexity** and **space complexity** of different algorithms using **Big O Notation**]()\n",
    "  - [Touch upon **logarithm**]()"
   ]
  },
  {
   "cell_type": "markdown",
   "metadata": {},
   "source": [
    "\n",
    "---\n",
    "[next](./01-big-o-notation.ipynb)"
   ]
  }
 ],
 "metadata": {
  "kernelspec": {
   "display_name": "JavaScript (Node.js)",
   "language": "javascript",
   "name": "javascript"
  },
  "language_info": {
   "name": "javascript"
  },
  "orig_nbformat": 4
 },
 "nbformat": 4,
 "nbformat_minor": 2
}
