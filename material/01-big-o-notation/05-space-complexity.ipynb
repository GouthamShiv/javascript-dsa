{
 "cells": [
  {
   "cell_type": "markdown",
   "metadata": {},
   "source": [
    "[back](./04-simplifying-big-o-expression.ipynb)\n",
    "\n",
    "---\n",
    "## `Space Complexity`"
   ]
  },
  {
   "cell_type": "markdown",
   "metadata": {},
   "source": [
    "So far, the topic covered was focusing on **time complexity**: how can we analyze the *runtime* of an algorithm as the size of the input increases?"
   ]
  },
  {
   "cell_type": "markdown",
   "metadata": {},
   "source": [
    "Now, we see what happens to the **space** that an algorithm takes up as the size of the input increases.\n",
    "\n",
    "We can still use the `Big O` notation to analyze the **space complexity**: how much additional memory do we need to allocate in order to run the code in our algorithm?"
   ]
  },
  {
   "cell_type": "markdown",
   "metadata": {},
   "source": [
    "### `What about the inputs?`"
   ]
  },
  {
   "cell_type": "markdown",
   "metadata": {},
   "source": [
    "As $n$ grows towards $\\infty$, the size of the input itself which is $n$ is going to grown and we are going to ignore that part.\n",
    "\n",
    "We will come across the term called **auxiliary space complexity**, which refer to the space required by the algorithm, **not** including the space taken up by the inputs.\n",
    "\n",
    "We care about the algorithm itself, because our $n$ is growing in `Big O` and as $n$ grows we assume that the input $n$ grows, and we'll not care about that space, but we'll care about what repercussions that it has inside the algorithm."
   ]
  },
  {
   "cell_type": "markdown",
   "metadata": {},
   "source": [
    "### `Space Complexity in JavaScript`"
   ]
  },
  {
   "cell_type": "markdown",
   "metadata": {},
   "source": [
    "> **Rules of Thumb**\n",
    "\n",
    "- Most primitives (*boolean*, *numbers*, *undefined*, *null*) in JavaScript are constant space.\n",
    "    - So, it doesn't matter if the size of the input is $1$ or $1000000$ we can consider it as constant space.\n",
    "    - No matter of the boolean is `true` or `false`, it remains as constant space.\n",
    "- `String` requires $O(n)$ space _(where $n$ is the string length)_\n",
    "- `Reference` types are generally $O(n)$, where $n$ is the length *(for arrays)* or the number of keys *(for objects)*"
   ]
  },
  {
   "cell_type": "markdown",
   "metadata": {},
   "source": [
    "### `Example`"
   ]
  },
  {
   "cell_type": "markdown",
   "metadata": {},
   "source": [
    "#### `01`"
   ]
  },
  {
   "cell_type": "code",
   "execution_count": 1,
   "metadata": {},
   "outputs": [],
   "source": [
    "function sum(arr) {\n",
    "  let total = 0;\n",
    "  for (let index = 0; index < arr.length; index++) {\n",
    "    total += arr[index];\n",
    "  }\n",
    "  return total;\n",
    "}"
   ]
  },
  {
   "cell_type": "code",
   "execution_count": 2,
   "metadata": {},
   "outputs": [
    {
     "data": {
      "text/plain": [
       "6"
      ]
     },
     "execution_count": 2,
     "metadata": {},
     "output_type": "execute_result"
    }
   ],
   "source": [
    "sum([1, 2, 3])"
   ]
  },
  {
   "cell_type": "markdown",
   "metadata": {},
   "source": [
    "So, here we are not focusing on the **time complexity** rather the **space complexity**.\n",
    "\n",
    "And this function called `sum` takes in an *array* and it just sums all the elements in that array.\n",
    "\n",
    "- So, we have a variable $total$ that starts at $0$\n",
    "- We have a `loop`, that goes from $0$ to the end of the array and we are just adding in the value of the element into total and then we are returning the total value at the end.\n",
    "\n",
    "So, what are the things that take up space?\n",
    "\n",
    "- Well, no matter what the *array* length is, we have one variable called $total$ which is $1 number$\n",
    "- We have a loop, where we have a second declaration in the loop $i = 0$, and that another number\n",
    "- And that's it for the space, we're coming back to the variable $total$ and adding up to it, which take time, not space (again, as it's already considered)\n",
    "- So, no matter what the size of *array* is and as it grows, there is no impact on the space taken up by the algorithm because we only have two variables and we are not adding new variables based off of the length.\n",
    "- This means that we have constant space, that is $O(1) space$, it's always the same no matter the size of the input."
   ]
  },
  {
   "cell_type": "markdown",
   "metadata": {},
   "source": [
    "#### `02`"
   ]
  },
  {
   "cell_type": "code",
   "execution_count": 3,
   "metadata": {},
   "outputs": [],
   "source": [
    "function double(arr) {\n",
    "  let newArr = [];\n",
    "  for (let index = 0; index < arr.length; index++) {\n",
    "    newArr.push(2 * arr[index]);\n",
    "  }\n",
    "  return newArr;\n",
    "}"
   ]
  },
  {
   "cell_type": "code",
   "execution_count": 4,
   "metadata": {},
   "outputs": [
    {
     "data": {
      "text/plain": [
       "[ 2, 4, 6 ]"
      ]
     },
     "execution_count": 4,
     "metadata": {},
     "output_type": "execute_result"
    }
   ],
   "source": [
    "double([1, 2, 3])"
   ]
  },
  {
   "cell_type": "markdown",
   "metadata": {},
   "source": [
    "This is called *double*, it takes an array, and it doubles the value of the individual elements and save it in a new array.\n",
    "\n",
    "The thing to note here is that we are creating a new array. So, what does that mean for the **space complexity** of this as the *array* length grows?\n",
    "\n",
    "- So, we're going to make a new array no matter what the length of the input array is.\n",
    "- But what is significant here is, the new array keeps getting longer and longer, directly proportion to the length of the input.\n",
    "- Meaning, if the length of the input array is $10$, then we're storing $10$ items in a new array.\n",
    "- So, the space that is taken up is directly proportionate to length of the input array.\n",
    "- That is, if input array has $n$ numbers, the returned new array also has $n$ numbers, which is $O(n) space$"
   ]
  },
  {
   "cell_type": "markdown",
   "metadata": {},
   "source": [
    "### `Conclusion`"
   ]
  },
  {
   "cell_type": "markdown",
   "metadata": {},
   "source": [
    "\n",
    "---\n",
    "[next]()"
   ]
  }
 ],
 "metadata": {
  "kernelspec": {
   "display_name": "JavaScript (Node.js)",
   "language": "javascript",
   "name": "javascript"
  },
  "language_info": {
   "file_extension": ".js",
   "mimetype": "application/javascript",
   "name": "javascript",
   "version": "18.3.0"
  },
  "orig_nbformat": 4
 },
 "nbformat": 4,
 "nbformat_minor": 2
}
