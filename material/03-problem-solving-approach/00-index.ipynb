{
 "cells": [
  {
   "cell_type": "markdown",
   "metadata": {},
   "source": [
    "[back](../02-analyzing-performance/01B-arrays.ipynb)\n",
    "\n",
    "---\n",
    "## `Problem Solving Approach`"
   ]
  },
  {
   "cell_type": "markdown",
   "metadata": {},
   "source": [
    "This section *(and the next)* have to do with algorithms, problem solving patterns or strategies, game plans, approaches etc.\n",
    "\n",
    "Basically, whenever we face a tough challenge, some code or a problem we have to solve and we are not sure how to do it right off the bat, then what are the steps we can take to make it solvable?\n",
    "\n",
    "We'll approach this in two categories:\n",
    "- This first section, is more about the basic approach to solving a problem that we don't know how to solve, the steps you can take, things we can do to make it easier, strategies that we can keep in our back-pockets to help solve a lot of problems.\n",
    "- While the next section is more of code specific"
   ]
  },
  {
   "cell_type": "markdown",
   "metadata": {},
   "source": [
    "### `Objectives`"
   ]
  },
  {
   "cell_type": "markdown",
   "metadata": {},
   "source": [
    "- [Define what an algorithm is](./01-what-is-algorithm.ipynb)\n",
    "- Devise a plan to solve algorithms"
   ]
  },
  {
   "cell_type": "markdown",
   "metadata": {},
   "source": [
    "\n",
    "---\n",
    "[next](./01-what-is-algorithm.ipynb)"
   ]
  }
 ],
 "metadata": {
  "kernelspec": {
   "display_name": "JavaScript (Node.js)",
   "language": "javascript",
   "name": "javascript"
  },
  "language_info": {
   "name": "javascript"
  },
  "orig_nbformat": 4
 },
 "nbformat": 4,
 "nbformat_minor": 2
}
