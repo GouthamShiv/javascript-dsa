{
 "cells": [
  {
   "cell_type": "markdown",
   "metadata": {},
   "source": [
    "[back](./00-index.ipynb)\n",
    "\n",
    "---\n",
    "## `What is an algorithm`"
   ]
  },
  {
   "cell_type": "markdown",
   "metadata": {},
   "source": [
    "A **process** or **set of steps** to accomplish a certain task."
   ]
  },
  {
   "cell_type": "markdown",
   "metadata": {},
   "source": [
    "When we say **algorithm**, we could be talking about:\n",
    "\n",
    "- A set of mathematical steps that we need to do to solve a problem.\n",
    "- Facebook's algorithm that suggests certain ads to you.\n",
    "- Or, Google's algorithm, used for search something."
   ]
  },
  {
   "cell_type": "markdown",
   "metadata": {},
   "source": [
    "An algorithm could be something simple, like, calculating the first 100 prime numbers, as there are many ways of doing that. Or anything more simple or more complex"
   ]
  },
  {
   "cell_type": "markdown",
   "metadata": {},
   "source": [
    "### `Why should we know this?`"
   ]
  },
  {
   "cell_type": "markdown",
   "metadata": {},
   "source": [
    "Almost **everything** that we do in programming involves some kind of **algorithm!**\n",
    "\n",
    "**It's the foundation for being a successful problem solving developer**"
   ]
  },
  {
   "cell_type": "markdown",
   "metadata": {},
   "source": [
    "\n",
    "---\n",
    "[next]()"
   ]
  }
 ],
 "metadata": {
  "kernelspec": {
   "display_name": "JavaScript (Node.js)",
   "language": "javascript",
   "name": "javascript"
  },
  "language_info": {
   "name": "javascript"
  },
  "orig_nbformat": 4
 },
 "nbformat": 4,
 "nbformat_minor": 2
}
