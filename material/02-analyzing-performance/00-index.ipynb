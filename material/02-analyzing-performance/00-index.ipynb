{
 "cells": [
  {
   "cell_type": "markdown",
   "metadata": {},
   "source": [
    "[back](../01-big-o-notation/06-logarithms.ipynb)\n",
    "\n",
    "---\n",
    "## `Analyzing Performance of Arrays and Objects`"
   ]
  },
  {
   "cell_type": "markdown",
   "metadata": {},
   "source": [
    "> Built-In Data Structures through the lens of `Big O`\n",
    "\n",
    "In couple of sections ahead, we'll analyze the things we do all the time in **JS**: working with *Arrays*, *Objects* and *built-in methods*."
   ]
  },
  {
   "cell_type": "markdown",
   "metadata": {},
   "source": [
    "### `Objectives`"
   ]
  },
  {
   "cell_type": "markdown",
   "metadata": {},
   "source": [
    "- [Understand how objects and arrays work through the lens of **Big O**](./01-objects-and-arrays.ipynb)\n",
    "- [See why adding elements to the beginning of an array is costly]()\n",
    "- [Compare and contrast the runtime for arrays and objects, as well as built-in methods]()"
   ]
  },
  {
   "cell_type": "markdown",
   "metadata": {},
   "source": [
    "\n",
    "---\n",
    "[next](./01-objects-and-arrays.ipynb)"
   ]
  }
 ],
 "metadata": {
  "kernelspec": {
   "display_name": "JavaScript (Node.js)",
   "language": "javascript",
   "name": "javascript"
  },
  "language_info": {
   "name": "javascript"
  },
  "orig_nbformat": 4
 },
 "nbformat": 4,
 "nbformat_minor": 2
}
