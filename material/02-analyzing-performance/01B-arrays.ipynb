{
 "cells": [
  {
   "cell_type": "markdown",
   "metadata": {},
   "source": [
    "[back](./01A-objects.ipynb)\n",
    "\n",
    "---\n",
    "##  `Arrays`\n",
    "> Ordered lists\n",
    "\n",
    "Unlike an object, arrays are ordered and comes with it's own advantage and disadvantage"
   ]
  },
  {
   "cell_type": "code",
   "execution_count": 1,
   "metadata": {},
   "outputs": [],
   "source": [
    "let names = ['John', 'Andrea', 'Michael'];\n",
    "let values = [true, {}, [], 2, 'awesome'];"
   ]
  },
  {
   "cell_type": "markdown",
   "metadata": {},
   "source": [
    "Above, we have two arrays, and as we can see, we can store any kind of data, even mix it up and each element has an index; a numeric value that corresponds to it."
   ]
  },
  {
   "cell_type": "markdown",
   "metadata": {},
   "source": [
    "### `When to use Arrays`"
   ]
  },
  {
   "cell_type": "markdown",
   "metadata": {},
   "source": [
    "In General, arrays are used when:\n",
    "- When we need order\n",
    "- When you need fast access / insertion and removal (sort of)"
   ]
  },
  {
   "cell_type": "markdown",
   "metadata": {},
   "source": [
    "### `Big O of Arrays`"
   ]
  },
  {
   "cell_type": "markdown",
   "metadata": {},
   "source": [
    "- *Insertions* - it depends\n",
    "- *Removal* - it depends\n",
    "- *Searching* - $O(N)$\n",
    "- *Access* - $O(1)$"
   ]
  },
  {
   "cell_type": "markdown",
   "metadata": {},
   "source": [
    "Accessing data in an array is always very quick, and by access meaning, in the above example, the names array if we ask for `names[2]`, it's constant time to return the value."
   ]
  },
  {
   "cell_type": "code",
   "execution_count": 2,
   "metadata": {},
   "outputs": [
    {
     "data": {
      "text/plain": [
       "'Michael'"
      ]
     },
     "execution_count": 2,
     "metadata": {},
     "output_type": "execute_result"
    }
   ],
   "source": [
    "names[2]"
   ]
  },
  {
   "cell_type": "markdown",
   "metadata": {},
   "source": [
    "Now, we'll see about *insertion* and *removal*\n",
    "\n",
    "- *Insertion* - It really depends on where we are inserting\n",
    "    - Inserting at the end (appending) of an array, it's $O(1)$\n",
    "    - There is nothing complex about it, we're just adding an element and giving it an index *(similar to adding to an Object)*\n",
    "    - Problem is when we are inserting at the beginning of an array\n",
    "    - If we are trying to insert a value at the beginning, then all the elements has to be reindexed in the array which will be $O(N)$ time\n",
    "- *Removal* - The same goes for removal as well\n",
    "    - Removing from the beginning of an array, will require re-indexing of all the values in an array which is $O(N)$\n",
    "    - And, removing from the end is still fast which is $O(1)$"
   ]
  },
  {
   "cell_type": "markdown",
   "metadata": {},
   "source": [
    "### `Built-in methods of an Array`"
   ]
  },
  {
   "cell_type": "markdown",
   "metadata": {},
   "source": [
    "- push - $O(1)$\n",
    "- pop - $O(1)$\n",
    "- shift - $O(N)$\n",
    "- unshift - $O(N)$\n",
    "- concat - $O(N)$\n",
    "- slice - $O(N)$\n",
    "- splice - $O(N)$\n",
    "- sort - $O(N * log N)$\n",
    "- forEach/map/filter/reduce/etc. - $O(N)$"
   ]
  },
  {
   "cell_type": "markdown",
   "metadata": {},
   "source": [
    "### `Conclusion`"
   ]
  },
  {
   "cell_type": "markdown",
   "metadata": {},
   "source": [
    "\n",
    "---\n",
    "[next](../03-problem-solving-approach/00-index.ipynb)"
   ]
  }
 ],
 "metadata": {
  "kernelspec": {
   "display_name": "JavaScript (Node.js)",
   "language": "javascript",
   "name": "javascript"
  },
  "language_info": {
   "file_extension": ".js",
   "mimetype": "application/javascript",
   "name": "javascript",
   "version": "18.3.0"
  },
  "orig_nbformat": 4
 },
 "nbformat": 4,
 "nbformat_minor": 2
}
