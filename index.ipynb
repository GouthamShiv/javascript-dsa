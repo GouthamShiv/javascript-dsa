{
 "cells": [
  {
   "cell_type": "markdown",
   "metadata": {},
   "source": [
    "## `Topics`\n",
    "\n",
    "> [1.  Big O Notation](./material/01-big-o-notation/00-index.ipynb)\n",
    "\n",
    "  - [Need for **Big O Notation**](./material/01-big-o-notation/01-big-o-notation.ipynb)\n",
    "  - [Describe what **Big O Notation** is](./material/01-big-o-notation/01-big-o-notation.ipynb)\n",
    "  - Simplify `Big O Expressions`\n",
    "  - Define `time complexity` and `space complexity`\n",
    "  - Evaluate the `time complexity` and `space complexity` of different algorithms using `Big O Notation`\n",
    "  - Touch upon `logarithm`\n",
    "    \n",
    "> [2.  Analyzing Performance of Arrays and Objects]()\n",
    "\n",
    "> [3.  Problem Solving Approach]()\n",
    "\n",
    "> [4.  Problem Solving Patterns]()\n",
    "\n",
    "> [5.  Recursion]()\n",
    "\n",
    "> [6.  Searching Algorithms]()\n",
    "\n",
    "> [7.  Sorting Algorithms]()\n",
    "\n",
    "> [8.  Data Structures]()\n",
    "\n",
    "  -   Singly Linked Lists\n",
    "  -   Doubly Linked Lists\n",
    "  -   Stacks\n",
    "  -   Queues\n",
    "  -   Binary Search Trees\n",
    "  -   Tree Traversal\n",
    "  -   Binary Heaps\n",
    "  -   Hash Tables\n",
    "  -   Graphs\n",
    "  -   Graph Traversal\n",
    "  -   Dijkstra's Algorithm\n"
   ]
  }
 ],
 "metadata": {
  "kernelspec": {
   "display_name": "JavaScript (Node.js)",
   "language": "javascript",
   "name": "javascript"
  },
  "language_info": {
   "name": "javascript"
  },
  "orig_nbformat": 4
 },
 "nbformat": 4,
 "nbformat_minor": 2
}
