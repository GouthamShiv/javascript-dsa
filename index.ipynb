{
 "cells": [
  {
   "cell_type": "markdown",
   "metadata": {},
   "source": [
    "[back](./README.md)\n",
    "\n",
    "---\n",
    "## `Topics`\n",
    "\n",
    "> [1.  Big O Notation](./material/01-big-o-notation/00-index.ipynb)\n",
    "\n",
    "  - [Need for **Big O Notation**](./material/01-big-o-notation/01-big-o-notation.ipynb)\n",
    "  - [Examples to understand need of **Big O**](./material/01-big-o-notation/02-example.ipynb)\n",
    "  - [Describe what **Big O Notation** is](./material/01-big-o-notation/03-intro-to-big-o.ipynb)\n",
    "  - [Simplify **Big O Expressions**](./material/01-big-o-notation/04-simplifying-big-o-expression.ipynb)\n",
    "  - [Define **time complexity** and **space complexity**](./material/01-big-o-notation/05-space-complexity.ipynb)\n",
    "  - [Evaluate the **time complexity** and **space complexity** of different algorithms using **Big O Notation**](./material/01-big-o-notation/05-space-complexity.ipynb)\n",
    "  - [Touch upon **logarithm**](./material/01-big-o-notation/06-logarithms.ipynb)\n",
    "    \n",
    "> [2. Analyzing Performance of Arrays and Objects](./material/02-analyzing-performance/00-index.ipynb)\n",
    "\n",
    "  - [Understand how objects and arrays work through the lens of **Big O**](./material/02-analyzing-performance/01-objects-and-arrays.ipynb)\n",
    "  - [See why adding elements to the beginning of an array is costly]()\n",
    "  - [Compare and contrast the runtime for arrays and objects, as well as built-in methods]()\n",
    "\n",
    "> [3.  Problem Solving Approach](./material/03-problem-solving-approach/00-index.ipynb)\n",
    "\n",
    "  - [Define what an algorithm is](./material/03-problem-solving-approach/01-what-is-algorithm.ipynb)\n",
    "  - [Devise a plan to solve algorithms]()\n",
    "\n",
    "> [4.  Problem Solving Patterns]()\n",
    "\n",
    "> [5.  Recursion]()\n",
    "\n",
    "> [6.  Searching Algorithms]()\n",
    "\n",
    "> [7.  Sorting Algorithms]()\n",
    "\n",
    "> [8.  Data Structures]()\n",
    "\n",
    "  -   Singly Linked Lists\n",
    "  -   Doubly Linked Lists\n",
    "  -   Stacks\n",
    "  -   Queues\n",
    "  -   Binary Search Trees\n",
    "  -   Tree Traversal\n",
    "  -   Binary Heaps\n",
    "  -   Hash Tables\n",
    "  -   Graphs\n",
    "  -   Graph Traversal\n",
    "  -   Dijkstra's Algorithm\n",
    "\n",
    "---\n",
    "[next](./material/01-big-o-notation/00-index.ipynb)"
   ]
  }
 ],
 "metadata": {
  "kernelspec": {
   "display_name": "JavaScript (Node.js)",
   "language": "javascript",
   "name": "javascript"
  },
  "language_info": {
   "name": "javascript"
  },
  "orig_nbformat": 4
 },
 "nbformat": 4,
 "nbformat_minor": 2
}
